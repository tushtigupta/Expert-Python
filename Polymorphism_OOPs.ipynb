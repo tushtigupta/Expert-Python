{
 "cells": [
  {
   "cell_type": "code",
   "execution_count": 8,
   "id": "6ff41e92-d726-471e-bb54-8d07d49e87e0",
   "metadata": {},
   "outputs": [
    {
     "name": "stdout",
     "output_type": "stream",
     "text": [
      "Birds can fly.\n",
      "Penguins cannot fly.\n"
     ]
    }
   ],
   "source": [
    "class Bird:\n",
    "    def fly(self):\n",
    "        print(\"Birds can fly.\")\n",
    "class Penguin(Bird):\n",
    "    def fly(self):\n",
    "        print(\"Penguins cannot fly.\")\n",
    "a=Bird()\n",
    "b=Penguin()\n",
    "\n",
    "a.fly()\n",
    "b.fly()"
   ]
  },
  {
   "cell_type": "code",
   "execution_count": 2,
   "id": "aa23ace5-aac1-4ca3-b9f7-8939b0d0642e",
   "metadata": {},
   "outputs": [
    {
     "name": "stdout",
     "output_type": "stream",
     "text": [
      "Meow\n",
      "Woof\n"
     ]
    }
   ],
   "source": [
    "# Write a Python program to demonstrate polymorphism where two different classes have the same method name, and a common function calls those methods\n",
    "class Cat:\n",
    "    def sound(self):\n",
    "        return \"Meow\"\n",
    "class Dog:\n",
    "    def sound(self):\n",
    "        return \"Woof\"\n",
    "\n",
    "animals=[Cat(),Dog()]\n",
    "for animal in animals:\n",
    "    print(animal.sound())       "
   ]
  },
  {
   "cell_type": "code",
   "execution_count": 3,
   "id": "1ea425ea-d6de-4543-8e57-f28c06d72bac",
   "metadata": {},
   "outputs": [
    {
     "name": "stdout",
     "output_type": "stream",
     "text": [
      "Car is moving\n",
      "Boat is sailing\n"
     ]
    }
   ],
   "source": [
    "#Create a base class Vehicle with a method speed(). Then, create a derived class Car that overrides the speed() method.\n",
    "class Vehicle:\n",
    "    def speed(self):\n",
    "        return \"Moving\"\n",
    "class Car(Vehicle):\n",
    "    def speed(self):\n",
    "        return \"Car is moving\"\n",
    "class Boat(Vehicle):\n",
    "    def speed(self):\n",
    "        return \"Boat is sailing\"\n",
    "vehicles=[Car(),Boat()]\n",
    "for vehicle in vehicles:\n",
    "    print(vehicle.speed())"
   ]
  },
  {
   "cell_type": "code",
   "execution_count": 30,
   "id": "6c80e680-5b83-49e1-a095-b563cad6f24c",
   "metadata": {},
   "outputs": [
    {
     "name": "stdout",
     "output_type": "stream",
     "text": [
      "Box= 64\n",
      "Box1= 125\n",
      "Box+Box1 189\n"
     ]
    }
   ],
   "source": [
    "class Box:\n",
    "    def volume(self,a):\n",
    "        return a*a*a\n",
    "class Box1(Box):\n",
    "    def volume(self,b):\n",
    "        return b*b*b\n",
    "volumes=[Box(),Box1()]\n",
    "for volume in volumes:\n",
    "    print(\"Box=\",volume.volume(4))\n",
    "    print(\"Box1=\",volume.volume(5))\n",
    "    print(\"Box+Box1\",volume.volume(4)+volume.volume(5))\n",
    "    break\n",
    "  "
   ]
  },
  {
   "cell_type": "code",
   "execution_count": 41,
   "id": "7f80df40-3949-4d71-9212-bd965fbb665b",
   "metadata": {},
   "outputs": [
    {
     "name": "stdout",
     "output_type": "stream",
     "text": [
      "<built-in method sort of list object at 0x00000155C62E3A40>\n"
     ]
    }
   ],
   "source": []
  },
  {
   "cell_type": "code",
   "execution_count": null,
   "id": "801aff28-c96c-40f8-b916-f6b6fd02f52c",
   "metadata": {},
   "outputs": [],
   "source": []
  }
 ],
 "metadata": {
  "kernelspec": {
   "display_name": "Python 3 (ipykernel)",
   "language": "python",
   "name": "python3"
  },
  "language_info": {
   "codemirror_mode": {
    "name": "ipython",
    "version": 3
   },
   "file_extension": ".py",
   "mimetype": "text/x-python",
   "name": "python",
   "nbconvert_exporter": "python",
   "pygments_lexer": "ipython3",
   "version": "3.12.7"
  }
 },
 "nbformat": 4,
 "nbformat_minor": 5
}
