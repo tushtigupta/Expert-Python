{
 "cells": [
  {
   "cell_type": "code",
   "execution_count": 40,
   "id": "faa07ca7-3723-4641-8f8f-1fc4516c3662",
   "metadata": {},
   "outputs": [
    {
     "name": "stdout",
     "output_type": "stream",
     "text": [
      "Father:Tall and athletic\n",
      "Mother:Artistic and kind\n",
      "Combination of both the inherited traits from mother And father\n"
     ]
    }
   ],
   "source": [
    "#Create two parent classes, Father and Mother, with methods father_traits() and mother_traits(). Create a Child class that inherits from both.\n",
    "class Father:\n",
    "    def father_traits(self):\n",
    "        return(\"Father:Tall and athletic\")\n",
    "class Mother:\n",
    "    def mother_traits(self):\n",
    "        return(\"Mother:Artistic and kind\")\n",
    "class Child(Father,Mother):\n",
    "    def Child_traits(self):\n",
    "        return(\"Combination of both the inherited traits from mother And father\")\n",
    "child=Child()\n",
    "print(child.father_traits())\n",
    "print(child.mother_traits())\n",
    "print(child.Child_traits())"
   ]
  },
  {
   "cell_type": "code",
   "execution_count": 7,
   "id": "5ad3c88b-70a5-4204-a61d-ead48e73e407",
   "metadata": {},
   "outputs": [
    {
     "data": {
      "text/plain": [
       "('Vanshika', 890000)"
      ]
     },
     "execution_count": 7,
     "metadata": {},
     "output_type": "execute_result"
    }
   ],
   "source": [
    "#Create an Employee class with name, salary, and a method display(). Keep track of the total number of employees.\n",
    "#1st part\n",
    "class Employee:\n",
    "    def __init__(self,name,salary):\n",
    "        self.name=name\n",
    "        self.salary=salary\n",
    "    def display(self):\n",
    "        return(self.name,self.salary)\n",
    "emp=Employee(\"Vanshika\",890000)\n",
    "emp.display()\n",
    "        "
   ]
  },
  {
   "cell_type": "code",
   "execution_count": 10,
   "id": "1e2cad04-9241-4de6-a2d9-0b9c1cb4fdfe",
   "metadata": {},
   "outputs": [
    {
     "name": "stdout",
     "output_type": "stream",
     "text": [
      "('Ritu Sharma', 56000)\n",
      "('Riya Sahu', 67000)\n",
      "Total Employees : 2\n"
     ]
    }
   ],
   "source": [
    "#2nd part\n",
    "class Employee:\n",
    "    total_employee=0\n",
    "    def __init__(self,name,salary):\n",
    "        self.name=name\n",
    "        self.salary=salary\n",
    "        Employee.total_employee+=1\n",
    "    def display(self):\n",
    "        return(self.name,self.salary)\n",
    "emp1=Employee(\"Ritu Sharma\",56000) \n",
    "emp2=Employee(\"Riya Sahu\",67000)\n",
    "\n",
    "print(emp1.display())\n",
    "print(emp2.display())\n",
    "\n",
    "print(\"Total Employees :\",Employee.total_employee)"
   ]
  },
  {
   "cell_type": "code",
   "execution_count": 13,
   "id": "2e08def5-6dde-44e9-aa17-cb524b1801bc",
   "metadata": {},
   "outputs": [
    {
     "name": "stdout",
     "output_type": "stream",
     "text": [
      "5\n",
      "50\n"
     ]
    }
   ],
   "source": [
    "#Create a Calculator class with a method multiply() that works for both one and two arguments.\n",
    "class Calculator:\n",
    "    def multiply(self,a,b=1):\n",
    "        return a*b\n",
    "calc=Calculator()\n",
    "print(calc.multiply(5))\n",
    "print(calc.multiply(5,10))"
   ]
  },
  {
   "cell_type": "code",
   "execution_count": 30,
   "id": "0874845f-524f-4297-a915-1a3db6de6fbc",
   "metadata": {},
   "outputs": [
    {
     "name": "stdout",
     "output_type": "stream",
     "text": [
      "Total Amount: 50000\n",
      "Deposit Amount: 50500\n",
      "Widhtrwal Amount: 50480\n"
     ]
    }
   ],
   "source": [
    "#Create a BankAccount class with a private balance variable. Provide methods to deposit and withdraw.\n",
    "class BankAccount:\n",
    "    def __init__(self,balance):\n",
    "        self.__balance=balance\n",
    "    def deposit(self,deposit_amount):\n",
    "        if deposit_amount>0:\n",
    "            self.__balance+=deposit_amount\n",
    "\n",
    "    def widthraw(self,widthrawl_amount):\n",
    "        if 0<widthrawl_amount<self.__balance:\n",
    "            self.__balance-=widthrawl_amount\n",
    "        else:\n",
    "            print(\"Insufficient Balance\")\n",
    "    def get_balance(self):\n",
    "        return(self.__balance)\n",
    "\n",
    "acc=BankAccount(50000)\n",
    "print(\"Total Amount:\",acc.get_balance())\n",
    "acc.deposit(500)\n",
    "print(\"Deposit Amount:\",acc.get_balance())\n",
    "acc.widthraw(20)\n",
    "print(\"Widhtrwal Amount:\",acc.get_balance())\n"
   ]
  },
  {
   "cell_type": "code",
   "execution_count": 31,
   "id": "6d52234d-76fa-4683-ab38-784001243fb8",
   "metadata": {},
   "outputs": [
    {
     "name": "stdout",
     "output_type": "stream",
     "text": [
      "Hyundai Altroz 40kwh\n"
     ]
    }
   ],
   "source": [
    "#Create an ElectricCar class that inherits from the Car class and includes an additional attribute, battery_size.\n",
    "class Car:\n",
    "    def __init__(self,brand,model):\n",
    "        self.brand=brand\n",
    "        self.model=model\n",
    "class ElectricCar(Car):\n",
    "    def __init__(self,brand,model,battery_size):\n",
    "        super().__init__(brand,model)\n",
    "        self.battery_size=battery_size\n",
    "car=ElectricCar(\"Hyundai\",\"Altroz\",\"40kwh\")\n",
    "print(car.brand,car.model,car.battery_size)"
   ]
  },
  {
   "cell_type": "code",
   "execution_count": 33,
   "id": "cbf8dccd-7307-4889-bbab-cd6467eacf60",
   "metadata": {},
   "outputs": [
    {
     "name": "stdout",
     "output_type": "stream",
     "text": [
      "To kill a mocking bird\n",
      "Haper Lee\n"
     ]
    }
   ],
   "source": [
    "#Create a Book class with private attributes __title and __author. Implement a constructor to set these values and provide methods to retrieve them.\n",
    "class Book:\n",
    "    def __init__(self,title,author):\n",
    "        self.__title=title\n",
    "        self.__author=author\n",
    "    def title(self):\n",
    "        return(self.__title)\n",
    "    def author(self):\n",
    "        return(self.__author)\n",
    "books=Book(\"To kill a mocking bird\",\"Haper Lee\")\n",
    "print(books.title())\n",
    "print(books.author())\n",
    "    "
   ]
  },
  {
   "cell_type": "code",
   "execution_count": 35,
   "id": "165817b8-7fdd-4ccd-93e1-2204808886dc",
   "metadata": {},
   "outputs": [
    {
     "name": "stdout",
     "output_type": "stream",
     "text": [
      "Birds can fly.\n",
      "Dogs cannot fly\n"
     ]
    }
   ],
   "source": [
    "#Write a Python program to demonstrate polymorphism where two different classes have the same method name, and a common function calls those methods.\n",
    "class Bird:\n",
    "    def fly(self):\n",
    "        return(\"Birds can fly.\")\n",
    "class Dog:\n",
    "    def fly(self):\n",
    "        return(\"Dogs cannot fly.\")\n",
    "bird=[Bird(),Dog()]\n",
    "for birds in bird:\n",
    "    print(birds.fly())"
   ]
  },
  {
   "cell_type": "code",
   "execution_count": 37,
   "id": "63fb8eb9-90c0-4a5b-bff6-c21aa2c229f9",
   "metadata": {},
   "outputs": [
    {
     "name": "stdout",
     "output_type": "stream",
     "text": [
      "Dogs can make sounds as Woof!!\n",
      "Cats can make sounds as Meaow!!\n"
     ]
    }
   ],
   "source": [
    "#Define an abstract class Animal with an abstract method make_sound(). Then, create two subclasses Dog and Cat, each implementing make_sound() differently.\n",
    "from abc import ABC,abstractmethod\n",
    "class Animal(ABC):\n",
    "    @abstractmethod\n",
    "    def sounds(self):\n",
    "        pass\n",
    "class Dog(Animal):\n",
    "    def sounds(self):\n",
    "        return(\"Dogs can make sounds as Woof!!\")\n",
    "class Cat(Animal):\n",
    "    def sounds(self):\n",
    "        return(\"Cats can make sounds as Meaow!!\")\n",
    "sound=[Dog(),Cat()]\n",
    "for sounds in sound:\n",
    "    print(sounds.sounds())\n"
   ]
  },
  {
   "cell_type": "code",
   "execution_count": 38,
   "id": "f2270c15-404a-4210-8707-650be5014e03",
   "metadata": {},
   "outputs": [
    {
     "name": "stdout",
     "output_type": "stream",
     "text": [
      "1\n",
      "2\n",
      "3\n",
      "4\n",
      "5\n",
      "6\n",
      "7\n",
      "8\n",
      "9\n",
      "10\n"
     ]
    }
   ],
   "source": [
    "#How do you use a ‘for loop’ to iterate over an iterator. [\"a\", \"b\", \"c\"]\n",
    "l1=[1,2,3,4,5,6,7,8,9,10]\n",
    "list=iter(l1)\n",
    "\n",
    "for lists in list:\n",
    "    print(lists)"
   ]
  },
  {
   "cell_type": "code",
   "execution_count": 39,
   "id": "f794b311-1ed8-40f7-858b-09a30d7a9a2b",
   "metadata": {},
   "outputs": [
    {
     "name": "stdout",
     "output_type": "stream",
     "text": [
      "10\n",
      "20\n",
      "30\n",
      "40\n"
     ]
    }
   ],
   "source": [
    "#Write a program to iterate over a list using an iterator and a while loop. [10, 20, 30, 40]\n",
    "l1=[10,20,30,40]\n",
    "list_iter=iter(l1)\n",
    "\n",
    "while True:\n",
    "    try:\n",
    "        print(next(list_iter))\n",
    "    except StopIteration:\n",
    "        break\n",
    "        "
   ]
  },
  {
   "cell_type": "code",
   "execution_count": 43,
   "id": "f043600a-0eaa-4c26-9219-4753e51f00f5",
   "metadata": {},
   "outputs": [
    {
     "name": "stdout",
     "output_type": "stream",
     "text": [
      "[0, 1, 1, 2, 3, 5, 8]\n"
     ]
    }
   ],
   "source": [
    "##OOP implementation of Fibonacci in Python:\n",
    "class Fibonacci:\n",
    "    def __init__(self):\n",
    "        self.memo={0:0,1:1}\n",
    "    def calculate(self,n):\n",
    "        if n not in self.memo:\n",
    "            self.memo[n]=self.calculate(n-1)+self.calculate(n-2)\n",
    "        return self.memo[n]\n",
    "    def generate_series(self,terms):\n",
    "         return[self.calculate(i) for i in range(terms)]\n",
    "print(Fibonacci().generate_series(7))         \n",
    "            "
   ]
  }
 ],
 "metadata": {
  "kernelspec": {
   "display_name": "Python 3 (ipykernel)",
   "language": "python",
   "name": "python3"
  },
  "language_info": {
   "codemirror_mode": {
    "name": "ipython",
    "version": 3
   },
   "file_extension": ".py",
   "mimetype": "text/x-python",
   "name": "python",
   "nbconvert_exporter": "python",
   "pygments_lexer": "ipython3",
   "version": "3.12.7"
  }
 },
 "nbformat": 4,
 "nbformat_minor": 5
}
