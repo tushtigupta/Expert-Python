{
 "cells": [
  {
   "cell_type": "code",
   "execution_count": 1,
   "id": "38908dbc-14a7-47bf-9e9a-7c7f9688deb9",
   "metadata": {},
   "outputs": [
    {
     "name": "stdout",
     "output_type": "stream",
     "text": [
      "1\n",
      "2\n",
      "3\n",
      "4\n",
      "5\n"
     ]
    }
   ],
   "source": [
    "numbers=[1,2,3,4,5]\n",
    "for i in numbers:\n",
    "    print(i)"
   ]
  },
  {
   "cell_type": "code",
   "execution_count": 4,
   "id": "60911a78-bd01-4f1a-9bf0-47e21ca74e64",
   "metadata": {},
   "outputs": [
    {
     "name": "stdout",
     "output_type": "stream",
     "text": [
      "1\n",
      "2\n",
      "3\n",
      "4\n",
      "5\n"
     ]
    }
   ],
   "source": [
    "numbers=[1,2,3,4,5]\n",
    "iterartor=iter(numbers)\n",
    "\n",
    "print(next(iterartor))\n",
    "print(next(iterartor))\n",
    "print(next(iterartor))\n",
    "print(next(iterartor))\n",
    "print(next(iterartor))"
   ]
  },
  {
   "cell_type": "code",
   "execution_count": 5,
   "id": "7532dc9e-b30b-4a27-8392-7260270124ad",
   "metadata": {},
   "outputs": [
    {
     "name": "stdout",
     "output_type": "stream",
     "text": [
      "1\n",
      "2\n",
      "3\n",
      "4\n",
      "5\n"
     ]
    }
   ],
   "source": [
    "numbers=[1,2,3,4,5]\n",
    "iterartor=iter(numbers)\n",
    "for i in numbers:\n",
    "    print(i)"
   ]
  },
  {
   "cell_type": "code",
   "execution_count": 6,
   "id": "7fd52eab-0387-4471-91f7-9e9cc918a498",
   "metadata": {},
   "outputs": [
    {
     "name": "stdout",
     "output_type": "stream",
     "text": [
      "H\n",
      "e\n",
      "l\n",
      "l\n",
      "o\n"
     ]
    }
   ],
   "source": [
    "text=\"Hello\"\n",
    "text_iter=iter(text)\n",
    "\n",
    "for texts in text:\n",
    "    print(texts)"
   ]
  },
  {
   "cell_type": "code",
   "execution_count": 11,
   "id": "0cff0f14-3d76-4226-b88e-4fd0b7732567",
   "metadata": {},
   "outputs": [
    {
     "name": "stdout",
     "output_type": "stream",
     "text": [
      "A\n",
      "B\n",
      "C\n"
     ]
    }
   ],
   "source": [
    "#How do you use a ‘for loop’ to iterate over an iterator. [\"a\", \"b\", \"c\"]\n",
    "letter=iter([\"A\",\"B\",\"C\"])\n",
    "\n",
    "for letters in letter:\n",
    "    print(letters)"
   ]
  },
  {
   "cell_type": "code",
   "execution_count": 12,
   "id": "0255669c-1e5f-4e23-8574-1a268cb78f50",
   "metadata": {},
   "outputs": [
    {
     "name": "stdout",
     "output_type": "stream",
     "text": [
      "1\n",
      "2\n",
      "3\n",
      "4\n",
      "5\n"
     ]
    },
    {
     "ename": "StopIteration",
     "evalue": "",
     "output_type": "error",
     "traceback": [
      "\u001b[1;31m---------------------------------------------------------------------------\u001b[0m",
      "\u001b[1;31mStopIteration\u001b[0m                             Traceback (most recent call last)",
      "Cell \u001b[1;32mIn[12], line 10\u001b[0m\n\u001b[0;32m      8\u001b[0m \u001b[38;5;28mprint\u001b[39m(\u001b[38;5;28mnext\u001b[39m(iterartor))\n\u001b[0;32m      9\u001b[0m \u001b[38;5;28mprint\u001b[39m(\u001b[38;5;28mnext\u001b[39m(iterartor))\n\u001b[1;32m---> 10\u001b[0m \u001b[38;5;28mprint\u001b[39m(\u001b[38;5;28mnext\u001b[39m(iterartor))\n",
      "\u001b[1;31mStopIteration\u001b[0m: "
     ]
    }
   ],
   "source": [
    "#What happens if we call next() on an iterator that has no more items left?\n",
    "numbers=[1,2,3,4,5]\n",
    "iterartor=iter(numbers)\n",
    "\n",
    "print(next(iterartor))\n",
    "print(next(iterartor))\n",
    "print(next(iterartor))\n",
    "print(next(iterartor))\n",
    "print(next(iterartor))\n",
    "print(next(iterartor))"
   ]
  },
  {
   "cell_type": "code",
   "execution_count": 10,
   "id": "f76b1e89-c58f-4ff7-94b0-82f72bfdbcfe",
   "metadata": {},
   "outputs": [
    {
     "name": "stdout",
     "output_type": "stream",
     "text": [
      "10\n",
      "20\n",
      "30\n",
      "40\n"
     ]
    }
   ],
   "source": [
    "#Write a program to iterate over a list using an iterator and a while loop. [10, 20, 30, 40]\n",
    "l1=[10,20,30,40]\n",
    "list=iter(l1)\n",
    "\n",
    "while True:\n",
    "    try:\n",
    "        print(next(list))\n",
    "    except StopIteration:\n",
    "         break"
   ]
  },
  {
   "cell_type": "code",
   "execution_count": 21,
   "id": "6de40612-e637-4cbc-986c-09406e3fe7fa",
   "metadata": {},
   "outputs": [
    {
     "name": "stdout",
     "output_type": "stream",
     "text": [
      "0\n",
      "1\n",
      "2\n",
      "3\n",
      "4\n"
     ]
    }
   ],
   "source": [
    "#How do you use iter() and next() to iterate through a range of numbers?\n",
    "for i in range(5):\n",
    "    x=iter(str(i))\n",
    "    print(next(x))\n"
   ]
  },
  {
   "cell_type": "code",
   "execution_count": 23,
   "id": "e2bb8120-bdbe-4e66-8196-07604e5df110",
   "metadata": {},
   "outputs": [
    {
     "name": "stdout",
     "output_type": "stream",
     "text": [
      "12\n",
      "13\n",
      "14\n"
     ]
    }
   ],
   "source": [
    "# GENRATOR\n",
    "def My_Gen():\n",
    "    yield 12\n",
    "    yield 13\n",
    "    yield 14\n",
    "\n",
    "gen=My_Gen()\n",
    "print(next(gen))\n",
    "print(next(gen))\n",
    "print(next(gen))\n"
   ]
  }
 ],
 "metadata": {
  "kernelspec": {
   "display_name": "Python 3 (ipykernel)",
   "language": "python",
   "name": "python3"
  },
  "language_info": {
   "codemirror_mode": {
    "name": "ipython",
    "version": 3
   },
   "file_extension": ".py",
   "mimetype": "text/x-python",
   "name": "python",
   "nbconvert_exporter": "python",
   "pygments_lexer": "ipython3",
   "version": "3.12.7"
  }
 },
 "nbformat": 4,
 "nbformat_minor": 5
}
